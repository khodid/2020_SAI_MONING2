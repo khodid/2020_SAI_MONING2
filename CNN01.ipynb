{
  "nbformat": 4,
  "nbformat_minor": 0,
  "metadata": {
    "colab": {
      "name": "CNN01.ipynb",
      "provenance": [],
      "authorship_tag": "ABX9TyO+o/7SwM7C8As6fhXf+6TN",
      "include_colab_link": true
    },
    "kernelspec": {
      "name": "python3",
      "display_name": "Python 3"
    }
  },
  "cells": [
    {
      "cell_type": "markdown",
      "metadata": {
        "id": "view-in-github",
        "colab_type": "text"
      },
      "source": [
        "<a href=\"https://colab.research.google.com/github/khodid/2020_SAI_MONING2/blob/master/CNN01.ipynb\" target=\"_parent\"><img src=\"https://colab.research.google.com/assets/colab-badge.svg\" alt=\"Open In Colab\"/></a>"
      ]
    },
    {
      "cell_type": "markdown",
      "metadata": {
        "id": "k1ZwdGVpLFKZ",
        "colab_type": "text"
      },
      "source": [
        "# 모두의 딥러닝 시즌 2 - CNN\n",
        "\n"
      ]
    },
    {
      "cell_type": "markdown",
      "metadata": {
        "id": "GE59vaZwY2C5",
        "colab_type": "text"
      },
      "source": [
        "CNN은 데이터와 필터 간의 2차원 Convolution 연산을 하는 뉴런을 엮어 만드는 Neural Network다.\n",
        "\n",
        "\n",
        "\n",
        "우리가 기존에 딥뉴럴네트워크에서 'nn.Linear'로 선형 결합을 했던 것을, CNN에선 \n",
        "'torch.nn.Conv2d()' 오브젝트를 사용한다."
      ]
    },
    {
      "cell_type": "markdown",
      "metadata": {
        "id": "pAF44iQ-Y1pH",
        "colab_type": "text"
      },
      "source": [
        "**torch.nn.Conv2d의 매개변수**는 다음과 같다.\n",
        "- in_channels : input channel의 수\n",
        "- out_channels : output channel의 수\n",
        "- kernel\\_size : 연산하는 2D data의 크기를 넣어준다. kernel\\_size=N 으로 입력하면 NxN 크기를 나타내고, kernel\\_size = (N,M)처럼 넣어 주면 NxM 크기를 나타내는 것이다,\n",
        "- stride : filer를 이동시키는 간격이다.\n",
        "- padding : 가장자리에 N 줄씩 0 넣고 추가해준다."
      ]
    },
    {
      "cell_type": "markdown",
      "metadata": {
        "id": "OFldNZlOcBcM",
        "colab_type": "text"
      },
      "source": [
        "**pooling**이라는 레이어도 끼워 넣을 수 있는데, 이건 한 2D 배열에서 일정 구간마다 잘라서 하나로 나타내는 일종의 압축 기법이다.\n",
        "\n",
        "최댓값을 가져가는 Max Pooling, 평균값을 가져가는 Mean Pooling(Average pooling)이 있다."
      ]
    },
    {
      "cell_type": "code",
      "metadata": {
        "id": "Eoi3LvuXQb10",
        "colab_type": "code",
        "colab": {}
      },
      "source": [
        "# Library\n",
        "\n",
        "import torch\n",
        "import torch.nn as nn\n",
        "import torchvision.datasets as dsets\n",
        "import torchvision.transforms as transforms\n",
        "\n",
        "import torch.nn.init"
      ],
      "execution_count": 0,
      "outputs": []
    },
    {
      "cell_type": "code",
      "metadata": {
        "id": "RbpeVT0oLB6u",
        "colab_type": "code",
        "colab": {}
      },
      "source": [
        "# GPU 설정\n",
        "\n",
        "device = 'cuda' if torch.cuda.is_available() else 'cpu'\n",
        "\n",
        "torch.manual_seed(777)\n",
        "if device == 'cuda':\n",
        "  torch.cuda.manual_seed_all(777)"
      ],
      "execution_count": 0,
      "outputs": []
    },
    {
      "cell_type": "code",
      "metadata": {
        "id": "UHDczr72Qg-Y",
        "colab_type": "code",
        "colab": {}
      },
      "source": [
        "# Parameter 작성 - 나중에 써도 상관 없음.\n",
        "\n",
        "learning_rate = 0.001\n",
        "batch_size = 100\n",
        "training_epochs = 15"
      ],
      "execution_count": 0,
      "outputs": []
    },
    {
      "cell_type": "code",
      "metadata": {
        "id": "u7c3nsAIQjQD",
        "colab_type": "code",
        "colab": {}
      },
      "source": [
        "# MNIST dataset load\n",
        "mnist_train = dsets.MNIST(root = 'MNIST_data/', train = True, transform = transforms.ToTensor(), download = True)\n",
        "mnist_test  = dsets.MNIST(root = 'MNIST_data/', train = False, transform = transforms.ToTensor(), download  = True)"
      ],
      "execution_count": 0,
      "outputs": []
    },
    {
      "cell_type": "code",
      "metadata": {
        "id": "C_uJOmvMNKxH",
        "colab_type": "code",
        "colab": {}
      },
      "source": [
        "# Data Loader\n",
        "\n",
        "data_loader = torch.utils.data.DataLoader(dataset = mnist_train, batch_size = batch_size, shuffle = True, drop_last = True)"
      ],
      "execution_count": 0,
      "outputs": []
    },
    {
      "cell_type": "code",
      "metadata": {
        "id": "Wq4JHk5NNcJV",
        "colab_type": "code",
        "colab": {}
      },
      "source": [
        "# Model 정의하기\n",
        "\n",
        "class CNN(nn.Module):\n",
        "  def __init__(self):\n",
        "    super(CNN, self).__init__()\n",
        "    self.layer1 = nn.Sequential(\n",
        "        nn.Conv2d(1, 32, kernel_size = 3, stride = 1, padding = 1),\n",
        "        nn.ReLU(),\n",
        "        nn.MaxPool2d(2)\n",
        "    )\n",
        "    self.layer2 = nn.Sequential(\n",
        "        nn.Conv2d(32, 64, kernel_size = 3, stride = 1, padding = 1),\n",
        "        nn.ReLU(),\n",
        "        nn.MaxPool2d(2)\n",
        "    )\n",
        "    self.fc = nn.Linear(7*7*64, 10, bias = True ) # 7x7x64는 채널이 64 채널에 7x7인 output이 나오기 때문.\n",
        "    torch.nn.init.xavier_uniform_(self.fc.weight)\n",
        "\n",
        "  def forward(self, x):\n",
        "    out = self.layer1(x)\n",
        "    out = self.layer2(out)\n",
        "    out = out.view(out.size(0), -1)\n",
        "    out = self.fc(out)\n",
        "    return out"
      ],
      "execution_count": 0,
      "outputs": []
    },
    {
      "cell_type": "markdown",
      "metadata": {
        "id": "4F8tddv6dNeq",
        "colab_type": "text"
      },
      "source": [
        "여기서 conv2d와 Maxpool2d 레이어를 거치며 변하는 shape에 대한 건 [모딥 깃헙 소스](github/deeplearningzerotoall/PyTorch/blob/master/lab-10_2_mnist_deep_cnn.ipynb)에 잘 설명되어있다.\n",
        "\n",
        "솔직히 좀 어려운데... 익숙해지면 이해가 되지 않을까 생각한다.\n"
      ]
    },
    {
      "cell_type": "code",
      "metadata": {
        "id": "rZ62aqk9QFbm",
        "colab_type": "code",
        "colab": {}
      },
      "source": [
        "# 모델 선언\n",
        "model = CNN().to(device)   # device는 cuda나 cpu였다.\n",
        "\n",
        "# 모델 테스트\n",
        "value = torch.Tensor(1,1,28,28)\n",
        "print(model(value).shape)"
      ],
      "execution_count": 0,
      "outputs": []
    },
    {
      "cell_type": "markdown",
      "metadata": {
        "id": "8UrY-_OzXJ8s",
        "colab_type": "text"
      },
      "source": [
        "'\\# 모델 테스트' 부분:\n",
        "\n",
        "\n",
        "모델을 선언할 때는 임의의 Value를 넣어 제대로 돌아가는 모델인지 테스트를 해야 하기에 넣어 주었다."
      ]
    },
    {
      "cell_type": "code",
      "metadata": {
        "id": "HiuXTyLqQUSE",
        "colab_type": "code",
        "colab": {}
      },
      "source": [
        "# Cost Function과 Optimizer 정하기\n",
        "criterion = nn.CrossEntropyLoss().to(device)\n",
        "optimizer = torch.optim.Adam(model.parameters(), lr = learning_rate)"
      ],
      "execution_count": 0,
      "outputs": []
    },
    {
      "cell_type": "code",
      "metadata": {
        "id": "CUr1AU6pRKEC",
        "colab_type": "code",
        "colab": {
          "base_uri": "https://localhost:8080/",
          "height": 298
        },
        "outputId": "3f567765-c798-4e3e-e924-e98aaf8caaea"
      },
      "source": [
        "# Training\n",
        "\n",
        "total_batch = len(data_loader)\n",
        "\n",
        "for epoch in range(training_epochs):\n",
        "  avg_cost = 0\n",
        "\n",
        "  for imgs, labels in data_loader:\n",
        "    imgs   = imgs.to(device)\n",
        "    labels = labels.to(device)\n",
        "\n",
        "    optimizer.zero_grad()\n",
        "    hypothesis = model(imgs)\n",
        "\n",
        "    cost = criterion(hypothesis, labels)\n",
        "    cost.backward()\n",
        "    optimizer.step()\n",
        "\n",
        "    avg_cost += cost / total_batch\n",
        "    \n",
        "  print(\"Epoch : {}|  average cost = {} \".format(epoch+1, avg_cost))\n",
        "\n",
        "print(\"Learning Finished!\")\n",
        "    \n"
      ],
      "execution_count": 40,
      "outputs": [
        {
          "output_type": "stream",
          "text": [
            "Epoch : 1|  average cost = 0.24076279997825623 \n",
            "Epoch : 2|  average cost = 0.0682782456278801 \n",
            "Epoch : 3|  average cost = 0.05038006976246834 \n",
            "Epoch : 4|  average cost = 0.04023517295718193 \n",
            "Epoch : 5|  average cost = 0.0336553119122982 \n",
            "Epoch : 6|  average cost = 0.028655558824539185 \n",
            "Epoch : 7|  average cost = 0.024892257526516914 \n",
            "Epoch : 8|  average cost = 0.02045847661793232 \n",
            "Epoch : 9|  average cost = 0.018241852521896362 \n",
            "Epoch : 10|  average cost = 0.014795532450079918 \n",
            "Epoch : 11|  average cost = 0.01366713922470808 \n",
            "Epoch : 12|  average cost = 0.011033331975340843 \n",
            "Epoch : 13|  average cost = 0.009477882646024227 \n",
            "Epoch : 14|  average cost = 0.009487217292189598 \n",
            "Epoch : 15|  average cost = 0.007053466513752937 \n",
            "Learning Finished!\n"
          ],
          "name": "stdout"
        }
      ]
    },
    {
      "cell_type": "code",
      "metadata": {
        "id": "lbcGnPXdU-_v",
        "colab_type": "code",
        "colab": {
          "base_uri": "https://localhost:8080/",
          "height": 105
        },
        "outputId": "d7e37b7c-d0c7-4c9b-af8d-729430bd30e0"
      },
      "source": [
        "# Test Model\n",
        "\n",
        "with torch.no_grad():\n",
        "  imgs_test = mnist_test.test_data.view(len(mnist_test), 1, 28, 28).float().to(device)\n",
        "  labels_test = mnist_test.test_labels.to(device)\n",
        "\n",
        "  prediction = model(imgs_test)\n",
        "  correct_prediction = torch.argmax(prediction, 1) == labels_test\n",
        "  accuracy = correct_prediction.float().mean()\n",
        "  print('Accuracy: ', accuracy.item())\n"
      ],
      "execution_count": 41,
      "outputs": [
        {
          "output_type": "stream",
          "text": [
            "/usr/local/lib/python3.6/dist-packages/torchvision/datasets/mnist.py:60: UserWarning: test_data has been renamed data\n",
            "  warnings.warn(\"test_data has been renamed data\")\n",
            "/usr/local/lib/python3.6/dist-packages/torchvision/datasets/mnist.py:50: UserWarning: test_labels has been renamed targets\n",
            "  warnings.warn(\"test_labels has been renamed targets\")\n"
          ],
          "name": "stderr"
        },
        {
          "output_type": "stream",
          "text": [
            "Accuracy:  0.9824000000953674\n"
          ],
          "name": "stdout"
        }
      ]
    },
    {
      "cell_type": "markdown",
      "metadata": {
        "id": "5TD4bwR9WMQR",
        "colab_type": "text"
      },
      "source": [
        "탐구:\n",
        "\n",
        " **\"Layer를 더 깊게 쌓는다면 결과가 어떻게 될까?\"**\n",
        "\n",
        " 지금 이만큼 돌리는 것도 10 분 넘게, 굉장히 오래 걸려서 돌릴 엄두가 안 나긴 하는데...\n",
        " 해당 코드는 [모두의딥러닝 깃헙](github/deeplearningzerotoall/PyTorch/blob/master/lab-10_2_mnist_deep_cnn.ipynb)에 올라와있다.\n",
        "\n",
        "\n",
        " 강의 영상에서 알려준 결과만 보자면 Accuracy가 더 떨어진 모습을 볼 수 있었다. 따라서 모델이 깊을 수록 좋은 것이 아니고, 효율적으로 쌓는 것이 더 중요하다는 결론을 낼 수 있다.\n",
        "\n",
        "다음 영상들에선 그 효율성을 높이기 위한 노력들을 배우겠다고 한다.\n"
      ]
    }
  ]
}